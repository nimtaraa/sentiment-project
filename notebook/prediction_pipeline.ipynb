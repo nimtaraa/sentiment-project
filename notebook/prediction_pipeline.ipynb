{
 "cells": [
  {
   "cell_type": "code",
   "execution_count": 71,
   "id": "4ecf9e22-dacd-428b-a2f3-d778e59a0c14",
   "metadata": {},
   "outputs": [],
   "source": [
    "import numpy as np\n",
    "import pandas as pd\n",
    "import re\n",
    "import string\n",
    "import pickle"
   ]
  },
  {
   "cell_type": "code",
   "execution_count": 72,
   "id": "d4841b7b-09cb-4f01-b2c8-4e50b42d21b2",
   "metadata": {},
   "outputs": [],
   "source": [
    "txt='great product!, I like it'"
   ]
  },
  {
   "cell_type": "code",
   "execution_count": 73,
   "id": "cbef1c39-22f0-4622-b75a-e9dadcc98cd9",
   "metadata": {},
   "outputs": [],
   "source": [
    "with open('../static/model/model.pickle', 'rb') as f:\n",
    "    model = pickle.load(f)"
   ]
  },
  {
   "cell_type": "code",
   "execution_count": 74,
   "id": "8ea1cd39-1a5c-4218-9ed7-0b7af8a3ba8a",
   "metadata": {},
   "outputs": [],
   "source": [
    "vocab=pd.read_csv('../static/model/vocab.txt',header=None)\n",
    "tokens=vocab[0].tolist()"
   ]
  },
  {
   "cell_type": "code",
   "execution_count": 75,
   "id": "be147824-0cae-4e60-8dd4-345f72ccfc1b",
   "metadata": {},
   "outputs": [],
   "source": [
    "def remove_p(text):\n",
    "    for punctuation in string.punctuation:\n",
    "        text=text.replace(punctuation,'')\n",
    "    return text\n"
   ]
  },
  {
   "cell_type": "code",
   "execution_count": 76,
   "id": "e59800e3-3374-4096-ad2c-7354cdc93cf4",
   "metadata": {},
   "outputs": [],
   "source": [
    "with open('../static/model/corpora/stopwords/english', 'r')as file:\n",
    "    stopw=file.read().splitlines()"
   ]
  },
  {
   "cell_type": "code",
   "execution_count": 77,
   "id": "5a5a85ba-8bde-4b31-959c-08c01bf7aa05",
   "metadata": {},
   "outputs": [],
   "source": [
    "from nltk.stem import PorterStemmer\n",
    "ps = PorterStemmer()"
   ]
  },
  {
   "cell_type": "code",
   "execution_count": 78,
   "id": "51bd2bb7-6524-4126-b703-be9cc58fd3fd",
   "metadata": {},
   "outputs": [],
   "source": [
    "def preprocessing(text):\n",
    "    data=pd.DataFrame([text],columns=['tweet'])\n",
    "    data[\"tweet\"] = data[\"tweet\"].apply(lambda x: \" \".join(x.lower() for x in x.split()))\n",
    "    data[\"tweet\"] = data['tweet'].apply(lambda x: \" \".join(re.sub(r'^https?:\\/\\/.*[\\r\\n]*','', x, flags=re.MULTILINE) for x in x.split()))\n",
    "    data[\"tweet\"]=data[\"tweet\"].apply(remove_p)\n",
    "    data[\"tweet\"]=data['tweet'].str.replace(r'\\d+', '', regex=True)\n",
    "    data[\"tweet\"]=data[\"tweet\"].apply(lambda x: \" \".join(x for x in x.split() if x not in stopw)) \n",
    "    data[\"tweet\"]=data[\"tweet\"].apply(lambda x: \" \".join(ps.stem(x) for x in x.split()))\n",
    "    return data [\"tweet\"]"
   ]
  },
  {
   "cell_type": "code",
   "execution_count": 82,
   "id": "083d6a00-b9ab-4e3e-873a-6f2c73140400",
   "metadata": {},
   "outputs": [],
   "source": [
    "def vectorizer(ds,vocab):\n",
    "    vectorized_list=[]\n",
    "    for sentence in ds:\n",
    "        sentence_list=np.zeros(len(vocab))\n",
    "        for i in range(len(vocab)):\n",
    "            if vocab[i] in sentence.split():\n",
    "                sentence_list[i]=1\n",
    "        vectorized_list.append(sentence_list)\n",
    "    vectorized_new_list=np.asarray(vectorized_list,dtype=np.float32)\n",
    "    return vectorized_new_list"
   ]
  },
  {
   "cell_type": "code",
   "execution_count": 84,
   "id": "e8e07d70-00d2-43c8-80b1-fee2b96d5eb4",
   "metadata": {},
   "outputs": [
    {
     "ename": "SyntaxError",
     "evalue": "incomplete input (3770300939.py, line 3)",
     "output_type": "error",
     "traceback": [
      "\u001b[1;36m  Cell \u001b[1;32mIn[84], line 3\u001b[1;36m\u001b[0m\n\u001b[1;33m    if prediction==1:\u001b[0m\n\u001b[1;37m                     ^\u001b[0m\n\u001b[1;31mSyntaxError\u001b[0m\u001b[1;31m:\u001b[0m incomplete input\n"
     ]
    }
   ],
   "source": [
    "def get_pred(vectorized_txt):\n",
    "    prediction=model.predict(vectorized_txt)\n",
    "    if prediction==1:\n",
    "        return 'Negative'\n",
    "    else:\n",
    "        return 'Positive'"
   ]
  },
  {
   "cell_type": "code",
   "execution_count": 83,
   "id": "a9e648c4-0cce-4299-9a16-c3b0a4391eb2",
   "metadata": {},
   "outputs": [
    {
     "data": {
      "text/plain": [
       "array([0], dtype=int64)"
      ]
     },
     "execution_count": 83,
     "metadata": {},
     "output_type": "execute_result"
    }
   ],
   "source": [
    "txt='great i love it'\n",
    "preprocessed_text=preprocessing(txt)\n",
    "vectorized_txt=vectorizer(preprocessed_text,tokens)\n",
    "prd=model.predict(vectorized_txt)\n",
    "prd"
   ]
  },
  {
   "cell_type": "code",
   "execution_count": null,
   "id": "79423546-0235-4079-b2f4-31eb6d194df6",
   "metadata": {},
   "outputs": [],
   "source": []
  },
  {
   "cell_type": "code",
   "execution_count": null,
   "id": "62fcfae3-ab3a-4236-9c0b-fa997d63b115",
   "metadata": {},
   "outputs": [],
   "source": []
  }
 ],
 "metadata": {
  "kernelspec": {
   "display_name": "Python 3 (ipykernel)",
   "language": "python",
   "name": "python3"
  },
  "language_info": {
   "codemirror_mode": {
    "name": "ipython",
    "version": 3
   },
   "file_extension": ".py",
   "mimetype": "text/x-python",
   "name": "python",
   "nbconvert_exporter": "python",
   "pygments_lexer": "ipython3",
   "version": "3.12.3"
  }
 },
 "nbformat": 4,
 "nbformat_minor": 5
}
